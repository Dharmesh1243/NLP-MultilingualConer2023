{
  "nbformat": 4,
  "nbformat_minor": 0,
  "metadata": {
    "colab": {
      "provenance": [],
      "machine_shape": "hm",
      "gpuType": "T4"
    },
    "kernelspec": {
      "name": "python3",
      "display_name": "Python 3"
    },
    "language_info": {
      "name": "python"
    },
    "accelerator": "GPU"
  },
  "cells": [
    {
      "cell_type": "code",
      "source": [
        "# Cell 1: Mount Google Drive to access data files\n",
        "from google.colab import drive\n",
        "drive.mount('/content/drive', force_remount=True)\n"
      ],
      "metadata": {
        "id": "U-5b0nU4t1Sp",
        "colab": {
          "base_uri": "https://localhost:8080/"
        },
        "outputId": "8acb55ef-75a2-4918-cb3f-2cd85c202df9"
      },
      "execution_count": null,
      "outputs": [
        {
          "output_type": "stream",
          "name": "stdout",
          "text": [
            "Mounted at /content/drive\n"
          ]
        }
      ]
    },
    {
      "cell_type": "code",
      "source": [
        "\n",
        "!pip install transformers[torch]\n",
        "!pip install datasets\n",
        "!pip install tqdm\n",
        "!pip install seqeval\n"
      ],
      "metadata": {
        "id": "hWqc44fYt-eL",
        "colab": {
          "base_uri": "https://localhost:8080/"
        },
        "outputId": "12e26a6d-0f59-4a9c-98f9-2c314397726a"
      },
      "execution_count": null,
      "outputs": [
        {
          "output_type": "stream",
          "name": "stdout",
          "text": [
            "Collecting transformers[torch]\n",
            "  Downloading transformers-4.32.0-py3-none-any.whl (7.5 MB)\n",
            "\u001b[2K     \u001b[90m━━━━━━━━━━━━━━━━━━━━━━━━━━━━━━━━━━━━━━━━\u001b[0m \u001b[32m7.5/7.5 MB\u001b[0m \u001b[31m28.2 MB/s\u001b[0m eta \u001b[36m0:00:00\u001b[0m\n",
            "\u001b[?25hRequirement already satisfied: filelock in /usr/local/lib/python3.10/dist-packages (from transformers[torch]) (3.12.2)\n",
            "Collecting huggingface-hub<1.0,>=0.15.1 (from transformers[torch])\n",
            "  Downloading huggingface_hub-0.16.4-py3-none-any.whl (268 kB)\n",
            "\u001b[2K     \u001b[90m━━━━━━━━━━━━━━━━━━━━━━━━━━━━━━━━━━━━━━\u001b[0m \u001b[32m268.8/268.8 kB\u001b[0m \u001b[31m30.1 MB/s\u001b[0m eta \u001b[36m0:00:00\u001b[0m\n",
            "\u001b[?25hRequirement already satisfied: numpy>=1.17 in /usr/local/lib/python3.10/dist-packages (from transformers[torch]) (1.23.5)\n",
            "Requirement already satisfied: packaging>=20.0 in /usr/local/lib/python3.10/dist-packages (from transformers[torch]) (23.1)\n",
            "Requirement already satisfied: pyyaml>=5.1 in /usr/local/lib/python3.10/dist-packages (from transformers[torch]) (6.0.1)\n",
            "Requirement already satisfied: regex!=2019.12.17 in /usr/local/lib/python3.10/dist-packages (from transformers[torch]) (2023.6.3)\n",
            "Requirement already satisfied: requests in /usr/local/lib/python3.10/dist-packages (from transformers[torch]) (2.31.0)\n",
            "Collecting tokenizers!=0.11.3,<0.14,>=0.11.1 (from transformers[torch])\n",
            "  Downloading tokenizers-0.13.3-cp310-cp310-manylinux_2_17_x86_64.manylinux2014_x86_64.whl (7.8 MB)\n",
            "\u001b[2K     \u001b[90m━━━━━━━━━━━━━━━━━━━━━━━━━━━━━━━━━━━━━━━━\u001b[0m \u001b[32m7.8/7.8 MB\u001b[0m \u001b[31m87.7 MB/s\u001b[0m eta \u001b[36m0:00:00\u001b[0m\n",
            "\u001b[?25hCollecting safetensors>=0.3.1 (from transformers[torch])\n",
            "  Downloading safetensors-0.3.3-cp310-cp310-manylinux_2_17_x86_64.manylinux2014_x86_64.whl (1.3 MB)\n",
            "\u001b[2K     \u001b[90m━━━━━━━━━━━━━━━━━━━━━━━━━━━━━━━━━━━━━━━━\u001b[0m \u001b[32m1.3/1.3 MB\u001b[0m \u001b[31m74.4 MB/s\u001b[0m eta \u001b[36m0:00:00\u001b[0m\n",
            "\u001b[?25hRequirement already satisfied: tqdm>=4.27 in /usr/local/lib/python3.10/dist-packages (from transformers[torch]) (4.66.1)\n",
            "Requirement already satisfied: torch!=1.12.0,>=1.9 in /usr/local/lib/python3.10/dist-packages (from transformers[torch]) (2.0.1+cu118)\n",
            "Collecting accelerate>=0.20.3 (from transformers[torch])\n",
            "  Downloading accelerate-0.22.0-py3-none-any.whl (251 kB)\n",
            "\u001b[2K     \u001b[90m━━━━━━━━━━━━━━━━━━━━━━━━━━━━━━━━━━━━━━\u001b[0m \u001b[32m251.2/251.2 kB\u001b[0m \u001b[31m29.6 MB/s\u001b[0m eta \u001b[36m0:00:00\u001b[0m\n",
            "\u001b[?25hRequirement already satisfied: psutil in /usr/local/lib/python3.10/dist-packages (from accelerate>=0.20.3->transformers[torch]) (5.9.5)\n",
            "Requirement already satisfied: fsspec in /usr/local/lib/python3.10/dist-packages (from huggingface-hub<1.0,>=0.15.1->transformers[torch]) (2023.6.0)\n",
            "Requirement already satisfied: typing-extensions>=3.7.4.3 in /usr/local/lib/python3.10/dist-packages (from huggingface-hub<1.0,>=0.15.1->transformers[torch]) (4.7.1)\n",
            "Requirement already satisfied: sympy in /usr/local/lib/python3.10/dist-packages (from torch!=1.12.0,>=1.9->transformers[torch]) (1.12)\n",
            "Requirement already satisfied: networkx in /usr/local/lib/python3.10/dist-packages (from torch!=1.12.0,>=1.9->transformers[torch]) (3.1)\n",
            "Requirement already satisfied: jinja2 in /usr/local/lib/python3.10/dist-packages (from torch!=1.12.0,>=1.9->transformers[torch]) (3.1.2)\n",
            "Requirement already satisfied: triton==2.0.0 in /usr/local/lib/python3.10/dist-packages (from torch!=1.12.0,>=1.9->transformers[torch]) (2.0.0)\n",
            "Requirement already satisfied: cmake in /usr/local/lib/python3.10/dist-packages (from triton==2.0.0->torch!=1.12.0,>=1.9->transformers[torch]) (3.27.2)\n",
            "Requirement already satisfied: lit in /usr/local/lib/python3.10/dist-packages (from triton==2.0.0->torch!=1.12.0,>=1.9->transformers[torch]) (16.0.6)\n",
            "Requirement already satisfied: charset-normalizer<4,>=2 in /usr/local/lib/python3.10/dist-packages (from requests->transformers[torch]) (3.2.0)\n",
            "Requirement already satisfied: idna<4,>=2.5 in /usr/local/lib/python3.10/dist-packages (from requests->transformers[torch]) (3.4)\n",
            "Requirement already satisfied: urllib3<3,>=1.21.1 in /usr/local/lib/python3.10/dist-packages (from requests->transformers[torch]) (2.0.4)\n",
            "Requirement already satisfied: certifi>=2017.4.17 in /usr/local/lib/python3.10/dist-packages (from requests->transformers[torch]) (2023.7.22)\n",
            "Requirement already satisfied: MarkupSafe>=2.0 in /usr/local/lib/python3.10/dist-packages (from jinja2->torch!=1.12.0,>=1.9->transformers[torch]) (2.1.3)\n",
            "Requirement already satisfied: mpmath>=0.19 in /usr/local/lib/python3.10/dist-packages (from sympy->torch!=1.12.0,>=1.9->transformers[torch]) (1.3.0)\n",
            "Installing collected packages: tokenizers, safetensors, huggingface-hub, transformers, accelerate\n",
            "Successfully installed accelerate-0.22.0 huggingface-hub-0.16.4 safetensors-0.3.3 tokenizers-0.13.3 transformers-4.32.0\n",
            "Collecting datasets\n",
            "  Downloading datasets-2.14.4-py3-none-any.whl (519 kB)\n",
            "\u001b[2K     \u001b[90m━━━━━━━━━━━━━━━━━━━━━━━━━━━━━━━━━━━━━━━\u001b[0m \u001b[32m519.3/519.3 kB\u001b[0m \u001b[31m8.0 MB/s\u001b[0m eta \u001b[36m0:00:00\u001b[0m\n",
            "\u001b[?25hRequirement already satisfied: numpy>=1.17 in /usr/local/lib/python3.10/dist-packages (from datasets) (1.23.5)\n",
            "Requirement already satisfied: pyarrow>=8.0.0 in /usr/local/lib/python3.10/dist-packages (from datasets) (9.0.0)\n",
            "Collecting dill<0.3.8,>=0.3.0 (from datasets)\n",
            "  Downloading dill-0.3.7-py3-none-any.whl (115 kB)\n",
            "\u001b[2K     \u001b[90m━━━━━━━━━━━━━━━━━━━━━━━━━━━━━━━━━━━━━━\u001b[0m \u001b[32m115.3/115.3 kB\u001b[0m \u001b[31m11.1 MB/s\u001b[0m eta \u001b[36m0:00:00\u001b[0m\n",
            "\u001b[?25hRequirement already satisfied: pandas in /usr/local/lib/python3.10/dist-packages (from datasets) (1.5.3)\n",
            "Requirement already satisfied: requests>=2.19.0 in /usr/local/lib/python3.10/dist-packages (from datasets) (2.31.0)\n",
            "Requirement already satisfied: tqdm>=4.62.1 in /usr/local/lib/python3.10/dist-packages (from datasets) (4.66.1)\n",
            "Collecting xxhash (from datasets)\n",
            "  Downloading xxhash-3.3.0-cp310-cp310-manylinux_2_17_x86_64.manylinux2014_x86_64.whl (194 kB)\n",
            "\u001b[2K     \u001b[90m━━━━━━━━━━━━━━━━━━━━━━━━━━━━━━━━━━━━━━\u001b[0m \u001b[32m194.1/194.1 kB\u001b[0m \u001b[31m14.6 MB/s\u001b[0m eta \u001b[36m0:00:00\u001b[0m\n",
            "\u001b[?25hCollecting multiprocess (from datasets)\n",
            "  Downloading multiprocess-0.70.15-py310-none-any.whl (134 kB)\n",
            "\u001b[2K     \u001b[90m━━━━━━━━━━━━━━━━━━━━━━━━━━━━━━━━━━━━━━\u001b[0m \u001b[32m134.8/134.8 kB\u001b[0m \u001b[31m11.1 MB/s\u001b[0m eta \u001b[36m0:00:00\u001b[0m\n",
            "\u001b[?25hRequirement already satisfied: fsspec[http]>=2021.11.1 in /usr/local/lib/python3.10/dist-packages (from datasets) (2023.6.0)\n",
            "Requirement already satisfied: aiohttp in /usr/local/lib/python3.10/dist-packages (from datasets) (3.8.5)\n",
            "Requirement already satisfied: huggingface-hub<1.0.0,>=0.14.0 in /usr/local/lib/python3.10/dist-packages (from datasets) (0.16.4)\n",
            "Requirement already satisfied: packaging in /usr/local/lib/python3.10/dist-packages (from datasets) (23.1)\n",
            "Requirement already satisfied: pyyaml>=5.1 in /usr/local/lib/python3.10/dist-packages (from datasets) (6.0.1)\n",
            "Requirement already satisfied: attrs>=17.3.0 in /usr/local/lib/python3.10/dist-packages (from aiohttp->datasets) (23.1.0)\n",
            "Requirement already satisfied: charset-normalizer<4.0,>=2.0 in /usr/local/lib/python3.10/dist-packages (from aiohttp->datasets) (3.2.0)\n",
            "Requirement already satisfied: multidict<7.0,>=4.5 in /usr/local/lib/python3.10/dist-packages (from aiohttp->datasets) (6.0.4)\n",
            "Requirement already satisfied: async-timeout<5.0,>=4.0.0a3 in /usr/local/lib/python3.10/dist-packages (from aiohttp->datasets) (4.0.3)\n",
            "Requirement already satisfied: yarl<2.0,>=1.0 in /usr/local/lib/python3.10/dist-packages (from aiohttp->datasets) (1.9.2)\n",
            "Requirement already satisfied: frozenlist>=1.1.1 in /usr/local/lib/python3.10/dist-packages (from aiohttp->datasets) (1.4.0)\n",
            "Requirement already satisfied: aiosignal>=1.1.2 in /usr/local/lib/python3.10/dist-packages (from aiohttp->datasets) (1.3.1)\n",
            "Requirement already satisfied: filelock in /usr/local/lib/python3.10/dist-packages (from huggingface-hub<1.0.0,>=0.14.0->datasets) (3.12.2)\n",
            "Requirement already satisfied: typing-extensions>=3.7.4.3 in /usr/local/lib/python3.10/dist-packages (from huggingface-hub<1.0.0,>=0.14.0->datasets) (4.7.1)\n",
            "Requirement already satisfied: idna<4,>=2.5 in /usr/local/lib/python3.10/dist-packages (from requests>=2.19.0->datasets) (3.4)\n",
            "Requirement already satisfied: urllib3<3,>=1.21.1 in /usr/local/lib/python3.10/dist-packages (from requests>=2.19.0->datasets) (2.0.4)\n",
            "Requirement already satisfied: certifi>=2017.4.17 in /usr/local/lib/python3.10/dist-packages (from requests>=2.19.0->datasets) (2023.7.22)\n",
            "Requirement already satisfied: python-dateutil>=2.8.1 in /usr/local/lib/python3.10/dist-packages (from pandas->datasets) (2.8.2)\n",
            "Requirement already satisfied: pytz>=2020.1 in /usr/local/lib/python3.10/dist-packages (from pandas->datasets) (2023.3)\n",
            "Requirement already satisfied: six>=1.5 in /usr/local/lib/python3.10/dist-packages (from python-dateutil>=2.8.1->pandas->datasets) (1.16.0)\n",
            "Installing collected packages: xxhash, dill, multiprocess, datasets\n",
            "Successfully installed datasets-2.14.4 dill-0.3.7 multiprocess-0.70.15 xxhash-3.3.0\n",
            "Requirement already satisfied: tqdm in /usr/local/lib/python3.10/dist-packages (4.66.1)\n",
            "Collecting seqeval\n",
            "  Downloading seqeval-1.2.2.tar.gz (43 kB)\n",
            "\u001b[2K     \u001b[90m━━━━━━━━━━━━━━━━━━━━━━━━━━━━━━━━━━━━━━━━\u001b[0m \u001b[32m43.6/43.6 kB\u001b[0m \u001b[31m1.7 MB/s\u001b[0m eta \u001b[36m0:00:00\u001b[0m\n",
            "\u001b[?25h  Preparing metadata (setup.py) ... \u001b[?25l\u001b[?25hdone\n",
            "Requirement already satisfied: numpy>=1.14.0 in /usr/local/lib/python3.10/dist-packages (from seqeval) (1.23.5)\n",
            "Requirement already satisfied: scikit-learn>=0.21.3 in /usr/local/lib/python3.10/dist-packages (from seqeval) (1.2.2)\n",
            "Requirement already satisfied: scipy>=1.3.2 in /usr/local/lib/python3.10/dist-packages (from scikit-learn>=0.21.3->seqeval) (1.10.1)\n",
            "Requirement already satisfied: joblib>=1.1.1 in /usr/local/lib/python3.10/dist-packages (from scikit-learn>=0.21.3->seqeval) (1.3.2)\n",
            "Requirement already satisfied: threadpoolctl>=2.0.0 in /usr/local/lib/python3.10/dist-packages (from scikit-learn>=0.21.3->seqeval) (3.2.0)\n",
            "Building wheels for collected packages: seqeval\n",
            "  Building wheel for seqeval (setup.py) ... \u001b[?25l\u001b[?25hdone\n",
            "  Created wheel for seqeval: filename=seqeval-1.2.2-py3-none-any.whl size=16162 sha256=146ccc4efbe822014b705e6856c4e8c2dae0bd8835947426b61b260cbc0e9c86\n",
            "  Stored in directory: /root/.cache/pip/wheels/1a/67/4a/ad4082dd7dfc30f2abfe4d80a2ed5926a506eb8a972b4767fa\n",
            "Successfully built seqeval\n",
            "Installing collected packages: seqeval\n",
            "Successfully installed seqeval-1.2.2\n"
          ]
        }
      ]
    },
    {
      "cell_type": "code",
      "source": [
        "\n",
        "# Cell 1: Import necessary libraries\n",
        "import warnings\n",
        "warnings.filterwarnings(\"ignore\", category=FutureWarning, module=\"transformers\")\n",
        "from sklearn.exceptions import UndefinedMetricWarning\n",
        "warnings.filterwarnings(\"ignore\", category=UndefinedMetricWarning, module=\"seqeval\")\n",
        "from transformers import  Trainer, TrainingArguments\n",
        "from datasets import Dataset\n",
        "import numpy as np\n",
        "import torch\n",
        "from seqeval.metrics import precision_score, recall_score, f1_score, classification_report\n",
        "import pickle\n",
        "import os\n",
        "from torch.utils.data import DataLoader\n",
        "\n",
        "\n"
      ],
      "metadata": {
        "id": "pUaex7G-uBez"
      },
      "execution_count": null,
      "outputs": []
    },
    {
      "cell_type": "code",
      "source": [
        "# Label Grouping dictionary\n",
        "labels = {\n",
        "    'B-Disease': 'B-Medical',\n",
        "    'I-Disease': 'I-Medical',\n",
        "    'B-Symptom': 'B-Medical',\n",
        "    'I-Symptom': 'I-Medical',\n",
        "    'B-AnatomicalStructure': 'B-Medical',\n",
        "    'I-AnatomicalStructure': 'I-Medical',\n",
        "    'B-MedicalProcedure': 'B-Medical',\n",
        "    'I-MedicalProcedure': 'I-Medical',\n",
        "    'B-Medication/Vaccine': 'B-Medical',\n",
        "    'I-Medication/Vaccine': 'I-Medical',\n",
        "\n",
        "    'B-OtherPROD': 'B-Product',\n",
        "    'I-OtherPROD': 'I-Product',\n",
        "    'B-Drink': 'B-Product',\n",
        "    'I-Drink': 'I-Product',\n",
        "    'B-Food': 'B-Product',\n",
        "    'I-Food': 'I-Product',\n",
        "    'B-Vehicle': 'B-Product',\n",
        "    'I-Vehicle': 'I-Product',\n",
        "    'B-Clothing': 'B-Product',\n",
        "    'I-Clothing': 'I-Product',\n",
        "\n",
        "    'B-OtherPER': 'B-Person',\n",
        "    'I-OtherPER': 'I-Person',\n",
        "    'B-SportsManager': 'B-Person',\n",
        "    'I-SportsManager': 'I-Person',\n",
        "    'B-Cleric': 'B-Person',\n",
        "    'I-Cleric': 'I-Person',\n",
        "    'B-Politician': 'B-Person',\n",
        "    'I-Politician': 'I-Person',\n",
        "    'B-Athlete': 'B-Person',\n",
        "    'I-Athlete': 'I-Person',\n",
        "    'B-Artist': 'B-Person',\n",
        "    'I-Artist': 'I-Person',\n",
        "    'B-Scientist': 'B-Person',\n",
        "    'I-Scientist': 'I-Person',\n",
        "\n",
        "    'B-MusicalGRP': 'B-Group',\n",
        "    'I-MusicalGRP': 'I-Group',\n",
        "    'B-PublicCorp': 'B-Group',\n",
        "    'I-PublicCorp': 'I-Group',\n",
        "    'B-PrivateCorp': 'B-Group',\n",
        "    'I-PrivateCorp': 'I-Group',\n",
        "    'B-AerospaceManufacturer': 'B-Group',\n",
        "    'I-AerospaceManufacturer': 'I-Group',\n",
        "    'B-SportsGRP': 'B-Group',\n",
        "    'I-SportsGRP': 'I-Group',\n",
        "    'B-CarManufacturer': 'B-Group',\n",
        "    'I-CarManufacturer': 'I-Group',\n",
        "    'B-ORG': 'B-Group',\n",
        "    'I-ORG': 'I-Group',\n",
        "\n",
        "    'B-VisualWork': 'B-CW',\n",
        "    'I-VisualWork': 'I-CW',\n",
        "    'B-MusicalWork': 'B-CW',\n",
        "    'I-MusicalWork': 'I-CW',\n",
        "    'B-WrittenWork': 'B-CW',\n",
        "    'I-WrittenWork': 'I-CW',\n",
        "    'B-ArtWork': 'B-CW',\n",
        "    'I-ArtWork': 'I-CW',\n",
        "    'B-Software': 'B-CW',\n",
        "    'I-Software': 'I-CW',\n",
        "\n",
        "    'B-Facility': 'B-Location',\n",
        "    'I-Facility': 'I-Location',\n",
        "    'B-OtherLOC': 'B-Location',\n",
        "    'I-OtherLOC': 'I-Location',\n",
        "    'B-HumanSettlement': 'B-Location',\n",
        "    'I-HumanSettlement': 'I-Location',\n",
        "    'B-Station': 'B-Location',\n",
        "    'I-Station': 'I-Location',\n",
        "\n",
        "    'O': 'O'\n",
        "}\n",
        "\n",
        "\n",
        "\n",
        "\n",
        "def convert_to_general_label(label):\n",
        "    return labels.get(label)\n"
      ],
      "metadata": {
        "id": "QnqEqNtouGd4"
      },
      "execution_count": null,
      "outputs": []
    },
    {
      "cell_type": "code",
      "source": [
        "\n",
        "def compute_metrics(p):\n",
        "    predictions = np.argmax(p.predictions, axis=2)\n",
        "    true_labels = p.label_ids\n",
        "    true_label_list = [[] for _ in range(true_labels.shape[0])]\n",
        "    pred_label_list = [[] for _ in range(true_labels.shape[0])]\n",
        "\n",
        "    # Convert label indices to label strings\n",
        "    index_to_label = {i: label for label, i in label_to_index.items()}\n",
        "\n",
        "    for i in range(true_labels.shape[0]):\n",
        "        for j in range(true_labels.shape[1]):\n",
        "            if true_labels[i, j] != -100: # Ignore padding and other special tokens\n",
        "                true_label_list[i].append(index_to_label[true_labels[i, j]])\n",
        "                pred_label_list[i].append(index_to_label[predictions[i, j]])\n",
        "\n",
        "        # Convert detailed labels to general categories\n",
        "        true_label_list[i] = [convert_to_general_label(label) for label in true_label_list[i]]\n",
        "        pred_label_list[i] = [convert_to_general_label(label) for label in pred_label_list[i]]\n",
        "\n",
        "    # Use seqeval for evaluation\n",
        "    results = {\n",
        "        \"precision\": precision_score(true_label_list, pred_label_list),\n",
        "        \"recall\": recall_score(true_label_list, pred_label_list),\n",
        "        \"f1\": f1_score(true_label_list, pred_label_list),\n",
        "    }\n",
        "\n",
        "    # If you want a more detailed report, you can use this:\n",
        "    report = classification_report(true_label_list, pred_label_list)\n",
        "    print(report)\n",
        "\n",
        "    return results\n"
      ],
      "metadata": {
        "id": "IjfNCa3RuNxq"
      },
      "execution_count": null,
      "outputs": []
    },
    {
      "cell_type": "code",
      "execution_count": null,
      "metadata": {
        "id": "4DL3Fz1Gtu2K",
        "colab": {
          "base_uri": "https://localhost:8080/",
          "height": 1000
        },
        "outputId": "273db9a7-b0a8-403e-80f5-7ece8bab61b3"
      },
      "outputs": [
        {
          "output_type": "stream",
          "name": "stdout",
          "text": [
            "Processing language: EN-English\n",
            "Loading model from /content/drive/MyDrive/xlm_fin_models/EN-English/model/model.pkl\n",
            "Loading label mapping from /content/drive/MyDrive/xlm_fin_models/EN-English/label_mapping/label_mapping.pkl\n",
            "Loading test dataset from /content/drive/MyDrive/tokenized_test_datasets/XLMR/XLMR_EN-English_test_dataset.pkl\n",
            "Evaluating model on test dataset\n"
          ]
        },
        {
          "output_type": "display_data",
          "data": {
            "text/plain": [
              "<IPython.core.display.HTML object>"
            ],
            "text/html": []
          },
          "metadata": {}
        },
        {
          "output_type": "stream",
          "name": "stdout",
          "text": [
            "              precision    recall  f1-score   support\n",
            "\n",
            "          CW       0.86      0.86      0.86     62126\n",
            "       Group       0.86      0.85      0.85     60026\n",
            "    Location       0.90      0.91      0.91     67901\n",
            "     Medical       0.81      0.81      0.81     22491\n",
            "      Person       0.96      0.96      0.96    137681\n",
            "     Product       0.74      0.71      0.73     27580\n",
            "\n",
            "   micro avg       0.89      0.89      0.89    377805\n",
            "   macro avg       0.85      0.85      0.85    377805\n",
            "weighted avg       0.89      0.89      0.89    377805\n",
            "\n",
            "Storing predictions and label IDs in /content/drive/MyDrive/predictions/xlmr_EN-English_predictions.pkl\n",
            "Processing language: ES-Spanish\n",
            "Loading model from /content/drive/MyDrive/xlm_fin_models/ES-Spanish/model/model.pkl\n",
            "Loading label mapping from /content/drive/MyDrive/xlm_fin_models/ES-Spanish/label_mapping/label_mapping.pkl\n",
            "Loading test dataset from /content/drive/MyDrive/tokenized_test_datasets/XLMR/XLMR_ES-Spanish_test_dataset.pkl\n",
            "Evaluating model on test dataset\n"
          ]
        },
        {
          "output_type": "display_data",
          "data": {
            "text/plain": [
              "<IPython.core.display.HTML object>"
            ],
            "text/html": []
          },
          "metadata": {}
        },
        {
          "output_type": "stream",
          "name": "stdout",
          "text": [
            "              precision    recall  f1-score   support\n",
            "\n",
            "          CW       0.87      0.87      0.87     55460\n",
            "       Group       0.89      0.87      0.88     50259\n",
            "    Location       0.90      0.90      0.90     72996\n",
            "     Medical       0.82      0.85      0.84     23812\n",
            "      Person       0.96      0.96      0.96    125379\n",
            "     Product       0.78      0.78      0.78     28469\n",
            "\n",
            "   micro avg       0.90      0.90      0.90    356375\n",
            "   macro avg       0.87      0.87      0.87    356375\n",
            "weighted avg       0.90      0.90      0.90    356375\n",
            "\n",
            "Storing predictions and label IDs in /content/drive/MyDrive/predictions/xlmr_ES-Spanish_predictions.pkl\n",
            "Processing language: HI-Hindi\n",
            "Loading model from /content/drive/MyDrive/xlm_fin_models/HI-Hindi/model/model.pkl\n",
            "Loading label mapping from /content/drive/MyDrive/xlm_fin_models/HI-Hindi/label_mapping/label_mapping.pkl\n",
            "Loading test dataset from /content/drive/MyDrive/tokenized_test_datasets/XLMR/XLMR_HI-Hindi_test_dataset.pkl\n",
            "Evaluating model on test dataset\n"
          ]
        },
        {
          "output_type": "display_data",
          "data": {
            "text/plain": [
              "<IPython.core.display.HTML object>"
            ],
            "text/html": []
          },
          "metadata": {}
        },
        {
          "output_type": "stream",
          "name": "stdout",
          "text": [
            "              precision    recall  f1-score   support\n",
            "\n",
            "          CW       0.78      0.77      0.78      2804\n",
            "       Group       0.88      0.88      0.88      3897\n",
            "    Location       0.91      0.92      0.91      7172\n",
            "     Medical       0.84      0.83      0.83      1979\n",
            "      Person       0.90      0.91      0.90      5736\n",
            "     Product       0.70      0.65      0.67      1611\n",
            "\n",
            "   micro avg       0.87      0.87      0.87     23199\n",
            "   macro avg       0.83      0.83      0.83     23199\n",
            "weighted avg       0.87      0.87      0.87     23199\n",
            "\n",
            "Storing predictions and label IDs in /content/drive/MyDrive/predictions/xlmr_HI-Hindi_predictions.pkl\n",
            "Processing language: ZH-Chinese\n",
            "Loading model from /content/drive/MyDrive/xlm_fin_models/ZH-Chinese/model/model.pkl\n",
            "Loading label mapping from /content/drive/MyDrive/xlm_fin_models/ZH-Chinese/label_mapping/label_mapping.pkl\n",
            "Loading test dataset from /content/drive/MyDrive/tokenized_test_datasets/XLMR/XLMR_ZH-Chinese_test_dataset.pkl\n",
            "Evaluating model on test dataset\n"
          ]
        },
        {
          "output_type": "display_data",
          "data": {
            "text/plain": [
              "<IPython.core.display.HTML object>"
            ],
            "text/html": []
          },
          "metadata": {}
        },
        {
          "output_type": "stream",
          "name": "stdout",
          "text": [
            "              precision    recall  f1-score   support\n",
            "\n",
            "          CW       0.67      0.70      0.68      4369\n",
            "       Group       0.73      0.73      0.73      4715\n",
            "    Location       0.78      0.82      0.80      6170\n",
            "     Medical       0.66      0.67      0.66      1781\n",
            "      Person       0.86      0.89      0.88      9095\n",
            "     Product       0.55      0.56      0.55      1869\n",
            "\n",
            "   micro avg       0.76      0.78      0.77     27999\n",
            "   macro avg       0.71      0.73      0.72     27999\n",
            "weighted avg       0.76      0.78      0.77     27999\n",
            "\n",
            "Storing predictions and label IDs in /content/drive/MyDrive/predictions/xlmr_ZH-Chinese_predictions.pkl\n",
            "Processing language: SV-Swedish\n",
            "Loading model from /content/drive/MyDrive/xlm_fin_models/SV-Swedish/model/model.pkl\n",
            "Loading label mapping from /content/drive/MyDrive/xlm_fin_models/SV-Swedish/label_mapping/label_mapping.pkl\n",
            "Loading test dataset from /content/drive/MyDrive/tokenized_test_datasets/XLMR/XLMR_SV-Swedish_test_dataset.pkl\n",
            "Evaluating model on test dataset\n"
          ]
        },
        {
          "output_type": "display_data",
          "data": {
            "text/plain": [
              "<IPython.core.display.HTML object>"
            ],
            "text/html": []
          },
          "metadata": {}
        },
        {
          "output_type": "stream",
          "name": "stdout",
          "text": [
            "              precision    recall  f1-score   support\n",
            "\n",
            "          CW       0.89      0.89      0.89     54806\n",
            "       Group       0.92      0.91      0.92     46929\n",
            "    Location       0.96      0.96      0.96    111879\n",
            "     Medical       0.89      0.89      0.89     13702\n",
            "      Person       0.97      0.97      0.97    111157\n",
            "     Product       0.86      0.85      0.86     22686\n",
            "\n",
            "   micro avg       0.94      0.94      0.94    361159\n",
            "   macro avg       0.92      0.91      0.92    361159\n",
            "weighted avg       0.94      0.94      0.94    361159\n",
            "\n",
            "Storing predictions and label IDs in /content/drive/MyDrive/predictions/xlmr_SV-Swedish_predictions.pkl\n",
            "Processing language: FA-Farsi\n",
            "Loading model from /content/drive/MyDrive/xlm_fin_models/FA-Farsi/model/model.pkl\n",
            "Loading label mapping from /content/drive/MyDrive/xlm_fin_models/FA-Farsi/label_mapping/label_mapping.pkl\n",
            "Loading test dataset from /content/drive/MyDrive/tokenized_test_datasets/XLMR/XLMR_FA-Farsi_test_dataset.pkl\n",
            "Evaluating model on test dataset\n"
          ]
        },
        {
          "output_type": "display_data",
          "data": {
            "text/plain": [
              "<IPython.core.display.HTML object>"
            ],
            "text/html": []
          },
          "metadata": {}
        },
        {
          "output_type": "stream",
          "name": "stdout",
          "text": [
            "              precision    recall  f1-score   support\n",
            "\n",
            "          CW       0.82      0.84      0.83     53034\n",
            "       Group       0.81      0.82      0.82     38807\n",
            "    Location       0.81      0.84      0.83     70907\n",
            "     Medical       0.75      0.79      0.77     15287\n",
            "      Person       0.87      0.89      0.88    115868\n",
            "     Product       0.75      0.77      0.76     18212\n",
            "\n",
            "   micro avg       0.83      0.85      0.84    312115\n",
            "   macro avg       0.80      0.83      0.81    312115\n",
            "weighted avg       0.83      0.85      0.84    312115\n",
            "\n",
            "Storing predictions and label IDs in /content/drive/MyDrive/predictions/xlmr_FA-Farsi_predictions.pkl\n",
            "Processing language: FR-French\n",
            "Loading model from /content/drive/MyDrive/xlm_fin_models/FR-French/model/model.pkl\n",
            "Loading label mapping from /content/drive/MyDrive/xlm_fin_models/FR-French/label_mapping/label_mapping.pkl\n",
            "Loading test dataset from /content/drive/MyDrive/tokenized_test_datasets/XLMR/XLMR_FR-French_test_dataset.pkl\n",
            "Evaluating model on test dataset\n"
          ]
        },
        {
          "output_type": "display_data",
          "data": {
            "text/plain": [
              "<IPython.core.display.HTML object>"
            ],
            "text/html": []
          },
          "metadata": {}
        },
        {
          "output_type": "stream",
          "name": "stdout",
          "text": [
            "              precision    recall  f1-score   support\n",
            "\n",
            "          CW       0.88      0.88      0.88     84952\n",
            "       Group       0.87      0.86      0.87     52989\n",
            "    Location       0.89      0.89      0.89     73373\n",
            "     Medical       0.82      0.82      0.82     17208\n",
            "      Person       0.96      0.96      0.96    141401\n",
            "     Product       0.79      0.77      0.78     28274\n",
            "\n",
            "   micro avg       0.90      0.90      0.90    398197\n",
            "   macro avg       0.87      0.86      0.87    398197\n",
            "weighted avg       0.90      0.90      0.90    398197\n",
            "\n",
            "Storing predictions and label IDs in /content/drive/MyDrive/predictions/xlmr_FR-French_predictions.pkl\n",
            "Processing language: IT-Italian\n",
            "Loading model from /content/drive/MyDrive/xlm_fin_models/IT-Italian/model/model.pkl\n",
            "Loading label mapping from /content/drive/MyDrive/xlm_fin_models/IT-Italian/label_mapping/label_mapping.pkl\n",
            "Loading test dataset from /content/drive/MyDrive/tokenized_test_datasets/XLMR/XLMR_IT-Italian_test_dataset.pkl\n",
            "Evaluating model on test dataset\n"
          ]
        },
        {
          "output_type": "display_data",
          "data": {
            "text/plain": [
              "<IPython.core.display.HTML object>"
            ],
            "text/html": []
          },
          "metadata": {}
        },
        {
          "output_type": "stream",
          "name": "stdout",
          "text": [
            "              precision    recall  f1-score   support\n",
            "\n",
            "          CW       0.93      0.93      0.93     79873\n",
            "       Group       0.90      0.90      0.90     46271\n",
            "    Location       0.91      0.91      0.91     68564\n",
            "     Medical       0.83      0.84      0.84     19029\n",
            "      Person       0.97      0.97      0.97    160598\n",
            "     Product       0.80      0.79      0.79     22887\n",
            "\n",
            "   micro avg       0.93      0.93      0.93    397222\n",
            "   macro avg       0.89      0.89      0.89    397222\n",
            "weighted avg       0.93      0.93      0.93    397222\n",
            "\n",
            "Storing predictions and label IDs in /content/drive/MyDrive/predictions/xlmr_IT-Italian_predictions.pkl\n",
            "Processing language: PT-Portuguese\n",
            "Loading model from /content/drive/MyDrive/xlm_fin_models/PT-Portuguese/model/model.pkl\n",
            "Loading label mapping from /content/drive/MyDrive/xlm_fin_models/PT-Portuguese/label_mapping/label_mapping.pkl\n",
            "Loading test dataset from /content/drive/MyDrive/tokenized_test_datasets/XLMR/XLMR_PT-Portuguese_test_dataset.pkl\n",
            "Evaluating model on test dataset\n"
          ]
        },
        {
          "output_type": "display_data",
          "data": {
            "text/plain": [
              "<IPython.core.display.HTML object>"
            ],
            "text/html": []
          },
          "metadata": {}
        },
        {
          "output_type": "stream",
          "name": "stdout",
          "text": [
            "              precision    recall  f1-score   support\n",
            "\n",
            "          CW       0.90      0.89      0.89     58246\n",
            "       Group       0.90      0.89      0.90     48994\n",
            "    Location       0.92      0.92      0.92     70923\n",
            "     Medical       0.83      0.84      0.83     21062\n",
            "      Person       0.97      0.96      0.97    120413\n",
            "     Product       0.82      0.81      0.81     21115\n",
            "\n",
            "   micro avg       0.92      0.91      0.92    340753\n",
            "   macro avg       0.89      0.88      0.89    340753\n",
            "weighted avg       0.92      0.91      0.92    340753\n",
            "\n",
            "Storing predictions and label IDs in /content/drive/MyDrive/predictions/xlmr_PT-Portuguese_predictions.pkl\n",
            "Processing language: UK-Ukrainian\n",
            "Loading model from /content/drive/MyDrive/xlm_fin_models/UK-Ukrainian/model/model.pkl\n",
            "Loading label mapping from /content/drive/MyDrive/xlm_fin_models/UK-Ukrainian/label_mapping/label_mapping.pkl\n",
            "Loading test dataset from /content/drive/MyDrive/tokenized_test_datasets/XLMR/XLMR_UK-Ukrainian_test_dataset.pkl\n",
            "Evaluating model on test dataset\n"
          ]
        },
        {
          "output_type": "display_data",
          "data": {
            "text/plain": [
              "<IPython.core.display.HTML object>"
            ],
            "text/html": []
          },
          "metadata": {}
        },
        {
          "output_type": "stream",
          "name": "stdout",
          "text": [
            "              precision    recall  f1-score   support\n",
            "\n",
            "          CW       0.87      0.86      0.86     43291\n",
            "       Group       0.91      0.90      0.91     39709\n",
            "    Location       0.92      0.92      0.92     84643\n",
            "     Medical       0.87      0.88      0.88     20796\n",
            "      Person       0.97      0.96      0.97     96864\n",
            "     Product       0.85      0.83      0.84     30071\n",
            "\n",
            "   micro avg       0.92      0.91      0.92    315374\n",
            "   macro avg       0.90      0.89      0.90    315374\n",
            "weighted avg       0.92      0.91      0.92    315374\n",
            "\n",
            "Storing predictions and label IDs in /content/drive/MyDrive/predictions/xlmr_UK-Ukrainian_predictions.pkl\n",
            "Processing language: DE-German\n",
            "Loading model from /content/drive/MyDrive/xlm_fin_models/DE-German/model/model.pkl\n",
            "Loading label mapping from /content/drive/MyDrive/xlm_fin_models/DE-German/label_mapping/label_mapping.pkl\n",
            "Loading test dataset from /content/drive/MyDrive/tokenized_test_datasets/XLMR/XLMR_DE-German_test_dataset.pkl\n",
            "Evaluating model on test dataset\n"
          ]
        },
        {
          "output_type": "display_data",
          "data": {
            "text/plain": [
              "<IPython.core.display.HTML object>"
            ],
            "text/html": []
          },
          "metadata": {}
        },
        {
          "output_type": "stream",
          "name": "stdout",
          "text": [
            "              precision    recall  f1-score   support\n",
            "\n",
            "          CW       0.84      0.85      0.85      4777\n",
            "       Group       0.84      0.84      0.84      4418\n",
            "    Location       0.88      0.91      0.89      5306\n",
            "     Medical       0.81      0.83      0.82      1434\n",
            "      Person       0.93      0.94      0.94     11299\n",
            "     Product       0.75      0.70      0.72      1643\n",
            "\n",
            "   micro avg       0.88      0.89      0.88     28877\n",
            "   macro avg       0.84      0.85      0.84     28877\n",
            "weighted avg       0.88      0.89      0.88     28877\n",
            "\n",
            "Storing predictions and label IDs in /content/drive/MyDrive/predictions/xlmr_DE-German_predictions.pkl\n",
            "Processing language: BN-Bangla\n",
            "Loading model from /content/drive/MyDrive/xlm_fin_models/BN-Bangla/model/model.pkl\n",
            "Loading label mapping from /content/drive/MyDrive/xlm_fin_models/BN-Bangla/label_mapping/label_mapping.pkl\n",
            "Loading test dataset from /content/drive/MyDrive/tokenized_test_datasets/XLMR/XLMR_BN-Bangla_test_dataset.pkl\n",
            "Evaluating model on test dataset\n"
          ]
        },
        {
          "output_type": "display_data",
          "data": {
            "text/plain": [
              "<IPython.core.display.HTML object>"
            ],
            "text/html": []
          },
          "metadata": {}
        },
        {
          "output_type": "stream",
          "name": "stdout",
          "text": [
            "              precision    recall  f1-score   support\n",
            "\n",
            "          CW       0.78      0.75      0.77      3640\n",
            "       Group       0.88      0.84      0.86      3651\n",
            "    Location       0.90      0.92      0.91      7375\n",
            "     Medical       0.80      0.81      0.81      1919\n",
            "      Person       0.90      0.90      0.90      6935\n",
            "     Product       0.66      0.65      0.66      1493\n",
            "\n",
            "   micro avg       0.86      0.85      0.85     25013\n",
            "   macro avg       0.82      0.81      0.82     25013\n",
            "weighted avg       0.86      0.85      0.85     25013\n",
            "\n",
            "Storing predictions and label IDs in /content/drive/MyDrive/predictions/xlmr_BN-Bangla_predictions.pkl\n"
          ]
        }
      ],
      "source": [
        "\n",
        "\n",
        "# Define the base paths to the models, label mappings, test datasets, and prediction files on Google Drive\n",
        "models_base_path = '/content/drive/MyDrive/xlm_fin_models'\n",
        "label_mappings_base_path = '/content/drive/MyDrive/xlm_fin_models'\n",
        "test_datasets_base_path = '/content/drive/MyDrive/tokenized_test_datasets/XLMR'\n",
        "predictions_base_path = '/content/drive/MyDrive/predictions'\n",
        "\n",
        "# Check if the predictions directory exists and create it if necessary\n",
        "if not os.path.exists(predictions_base_path):\n",
        "    os.makedirs(predictions_base_path)\n",
        "\n",
        "\n",
        "# Create empty dictionaries to store the loaded models, label mappings, and test datasets\n",
        "models = {}\n",
        "label_mappings = {}\n",
        "test_datasets = {}\n",
        "\n",
        "# Define the languages for which you have saved models, label mappings, and test datasets\n",
        "languages = ['EN-English', 'ES-Spanish', 'HI-Hindi', 'ZH-Chinese', 'SV-Swedish', 'FA-Farsi', 'FR-French', 'IT-Italian', 'PT-Portuguese', 'UK-Ukrainian', 'DE-German', 'BN-Bangla']\n",
        "\n",
        "# Load the models, label mappings, and test datasets, evaluate the models on the corresponding test datasets,\n",
        "# and store the predictions and label IDs for each language\n",
        "for lang in languages:\n",
        "    print(f'Processing language: {lang}')\n",
        "\n",
        "    # Define the paths to the saved model, label mapping, and test dataset for this language\n",
        "    model_path = os.path.join(models_base_path, lang, 'model', 'model.pkl')\n",
        "    label_mapping_path = os.path.join(label_mappings_base_path, lang, 'label_mapping', 'label_mapping.pkl')\n",
        "    test_dataset_path = os.path.join(test_datasets_base_path, f'XLMR_{lang}_test_dataset.pkl')\n",
        "\n",
        "    # Load the model\n",
        "    print(f'Loading model from {model_path}')\n",
        "    with open(model_path, 'rb') as f:\n",
        "        model = pickle.load(f)\n",
        "\n",
        "    # Load the label mapping\n",
        "    print(f'Loading label mapping from {label_mapping_path}')\n",
        "    with open(label_mapping_path, 'rb') as f:\n",
        "        label_to_index = pickle.load(f)\n",
        "\n",
        "    # Load the test dataset\n",
        "    print(f'Loading test dataset from {test_dataset_path}')\n",
        "    with open(test_dataset_path, 'rb') as f:\n",
        "        test_dataset = pickle.load(f)\n",
        "\n",
        "\n",
        "    trainer = Trainer(\n",
        "        model=model,\n",
        "        args=TrainingArguments(\n",
        "            output_dir='/content/drive/MyDrive/results',\n",
        "            do_train=False,\n",
        "            do_eval=True,\n",
        "            per_device_eval_batch_size=16,\n",
        "        ),\n",
        "        train_dataset=None,\n",
        "        eval_dataset=test_dataset,\n",
        "        compute_metrics=compute_metrics,\n",
        "    )\n",
        "\n",
        "    # Get the predictions and label IDs for the test dataset\n",
        "    print('Evaluating model on test dataset')\n",
        "    predictions,label_ids,_=trainer.predict(test_dataset)\n",
        "\n",
        "    # Define the path to the prediction file for this language\n",
        "    prediction_file_path=os.path.join(predictions_base_path,f'xlmr_{lang}_predictions.pkl')\n",
        "\n",
        "    # Store the predictions and label IDs in a file using the pickle library\n",
        "    print(f'Storing predictions and label IDs in {prediction_file_path}')\n",
        "    with open(prediction_file_path,'wb') as f:\n",
        "        pickle.dump((predictions,label_ids),f)\n"
      ]
    },
    {
      "cell_type": "code",
      "source": [
        "# Define the base paths to the models, label mappings, test datasets, and prediction files on Google Drive\n",
        "models_base_path = '/content/drive/MyDrive/mbert_fin_models'\n",
        "label_mappings_base_path = '/content/drive/MyDrive/mbert_fin_models'\n",
        "test_datasets_base_path = '/content/drive/MyDrive/tokenized_test_datasets/mbert'\n",
        "predictions_base_path = '/content/drive/MyDrive/predictions'\n",
        "\n",
        "# Check if the predictions directory exists and create it if necessary\n",
        "if not os.path.exists(predictions_base_path):\n",
        "    os.makedirs(predictions_base_path)\n",
        "\n",
        "\n",
        "# Create empty dictionaries to store the loaded models, label mappings, and test datasets\n",
        "models = {}\n",
        "label_mappings = {}\n",
        "test_datasets = {}\n",
        "\n",
        "# Define the languages for which you have saved models, label mappings, and test datasets\n",
        "languages = ['EN-English', 'ES-Spanish', 'HI-Hindi', 'ZH-Chinese', 'SV-Swedish', 'FA-Farsi', 'FR-French', 'IT-Italian', 'PT-Portuguese', 'UK-Ukrainian', 'DE-German', 'BN-Bangla']\n",
        "\n",
        "# Load the models, label mappings, and test datasets, evaluate the models on the corresponding test datasets,\n",
        "# and store the predictions and label IDs for each language\n",
        "for lang in languages:\n",
        "    print(f'Processing language: {lang}')\n",
        "\n",
        "    # Define the paths to the saved model, label mapping, and test dataset for this language\n",
        "    model_path = os.path.join(models_base_path, lang, 'model', 'model.pkl')\n",
        "    label_mapping_path = os.path.join(label_mappings_base_path, lang, 'label_mapping', 'label_mapping.pkl')\n",
        "    test_dataset_path = os.path.join(test_datasets_base_path, f'mbert_{lang}_test_dataset.pkl')\n",
        "\n",
        "    # Load the model\n",
        "    print(f'Loading model from {model_path}')\n",
        "    with open(model_path, 'rb') as f:\n",
        "        model = pickle.load(f)\n",
        "\n",
        "    # Load the label mapping\n",
        "    print(f'Loading label mapping from {label_mapping_path}')\n",
        "    with open(label_mapping_path, 'rb') as f:\n",
        "        label_to_index = pickle.load(f)\n",
        "\n",
        "    # Load the test dataset\n",
        "    print(f'Loading test dataset from {test_dataset_path}')\n",
        "    with open(test_dataset_path, 'rb') as f:\n",
        "        test_dataset = pickle.load(f)\n",
        "\n",
        "\n",
        "\n",
        "    trainer = Trainer(\n",
        "        model=model,\n",
        "        args=TrainingArguments(\n",
        "            output_dir='/content/drive/MyDrive/results',\n",
        "            do_train=False,\n",
        "            do_eval=True,\n",
        "            per_device_eval_batch_size=16,\n",
        "        ),\n",
        "        train_dataset=None,\n",
        "        eval_dataset=test_dataset,\n",
        "        compute_metrics=compute_metrics,\n",
        "    )\n",
        "\n",
        "    # Get the predictions and label IDs for the test dataset\n",
        "    print('Evaluating model on test dataset')\n",
        "    predictions,label_ids,_=trainer.predict(test_dataset)\n",
        "\n",
        "    # Define the path to the prediction file for this language\n",
        "    prediction_file_path=os.path.join(predictions_base_path,f'mbert_{lang}_predictions.pkl')\n",
        "\n",
        "    # Store the predictions and label IDs in a file using the pickle library\n",
        "    print(f'Storing predictions and label IDs in {prediction_file_path}')\n",
        "    with open(prediction_file_path,'wb') as f:\n",
        "        pickle.dump((predictions,label_ids),f)\n"
      ],
      "metadata": {
        "id": "FcpDAvKrvpEv",
        "colab": {
          "base_uri": "https://localhost:8080/",
          "height": 1000
        },
        "outputId": "a703ff18-505f-45c4-dbd6-ce7bbddf82be"
      },
      "execution_count": null,
      "outputs": [
        {
          "output_type": "stream",
          "name": "stdout",
          "text": [
            "Processing language: EN-English\n",
            "Loading model from /content/drive/MyDrive/mbert_fin_models/EN-English/model/model.pkl\n",
            "Loading label mapping from /content/drive/MyDrive/mbert_fin_models/EN-English/label_mapping/label_mapping.pkl\n",
            "Loading test dataset from /content/drive/MyDrive/tokenized_test_datasets/mbert/mbert_EN-English_test_dataset.pkl\n",
            "Evaluating model on test dataset\n"
          ]
        },
        {
          "output_type": "display_data",
          "data": {
            "text/plain": [
              "<IPython.core.display.HTML object>"
            ],
            "text/html": []
          },
          "metadata": {}
        },
        {
          "output_type": "stream",
          "name": "stdout",
          "text": [
            "              precision    recall  f1-score   support\n",
            "\n",
            "          CW       0.89      0.89      0.89     62126\n",
            "       Group       0.89      0.88      0.89     60026\n",
            "    Location       0.93      0.93      0.93     67901\n",
            "     Medical       0.84      0.85      0.84     22491\n",
            "      Person       0.97      0.97      0.97    137681\n",
            "     Product       0.79      0.76      0.77     27580\n",
            "\n",
            "   micro avg       0.92      0.91      0.91    377805\n",
            "   macro avg       0.88      0.88      0.88    377805\n",
            "weighted avg       0.91      0.91      0.91    377805\n",
            "\n",
            "Storing predictions and label IDs in /content/drive/MyDrive/predictions/mbert_EN-English_predictions.pkl\n",
            "Processing language: ES-Spanish\n",
            "Loading model from /content/drive/MyDrive/mbert_fin_models/ES-Spanish/model/model.pkl\n",
            "Loading label mapping from /content/drive/MyDrive/mbert_fin_models/ES-Spanish/label_mapping/label_mapping.pkl\n",
            "Loading test dataset from /content/drive/MyDrive/tokenized_test_datasets/mbert/mbert_ES-Spanish_test_dataset.pkl\n",
            "Evaluating model on test dataset\n"
          ]
        },
        {
          "output_type": "display_data",
          "data": {
            "text/plain": [
              "<IPython.core.display.HTML object>"
            ],
            "text/html": []
          },
          "metadata": {}
        },
        {
          "output_type": "stream",
          "name": "stdout",
          "text": [
            "              precision    recall  f1-score   support\n",
            "\n",
            "          CW       0.90      0.91      0.90     55460\n",
            "       Group       0.92      0.91      0.91     50259\n",
            "    Location       0.93      0.92      0.92     72996\n",
            "     Medical       0.85      0.88      0.86     23812\n",
            "      Person       0.97      0.97      0.97    125379\n",
            "     Product       0.82      0.81      0.82     28469\n",
            "\n",
            "   micro avg       0.92      0.92      0.92    356375\n",
            "   macro avg       0.90      0.90      0.90    356375\n",
            "weighted avg       0.92      0.92      0.92    356375\n",
            "\n",
            "Storing predictions and label IDs in /content/drive/MyDrive/predictions/mbert_ES-Spanish_predictions.pkl\n",
            "Processing language: HI-Hindi\n",
            "Loading model from /content/drive/MyDrive/mbert_fin_models/HI-Hindi/model/model.pkl\n",
            "Loading label mapping from /content/drive/MyDrive/mbert_fin_models/HI-Hindi/label_mapping/label_mapping.pkl\n",
            "Loading test dataset from /content/drive/MyDrive/tokenized_test_datasets/mbert/mbert_HI-Hindi_test_dataset.pkl\n",
            "Evaluating model on test dataset\n"
          ]
        },
        {
          "output_type": "display_data",
          "data": {
            "text/plain": [
              "<IPython.core.display.HTML object>"
            ],
            "text/html": []
          },
          "metadata": {}
        },
        {
          "output_type": "stream",
          "name": "stdout",
          "text": [
            "              precision    recall  f1-score   support\n",
            "\n",
            "          CW       0.80      0.80      0.80      2804\n",
            "       Group       0.89      0.89      0.89      3897\n",
            "    Location       0.92      0.93      0.92      7172\n",
            "     Medical       0.85      0.86      0.85      1979\n",
            "      Person       0.91      0.91      0.91      5736\n",
            "     Product       0.72      0.70      0.71      1611\n",
            "\n",
            "   micro avg       0.88      0.88      0.88     23199\n",
            "   macro avg       0.85      0.85      0.85     23199\n",
            "weighted avg       0.88      0.88      0.88     23199\n",
            "\n",
            "Storing predictions and label IDs in /content/drive/MyDrive/predictions/mbert_HI-Hindi_predictions.pkl\n",
            "Processing language: ZH-Chinese\n",
            "Loading model from /content/drive/MyDrive/mbert_fin_models/ZH-Chinese/model/model.pkl\n",
            "Loading label mapping from /content/drive/MyDrive/mbert_fin_models/ZH-Chinese/label_mapping/label_mapping.pkl\n",
            "Loading test dataset from /content/drive/MyDrive/tokenized_test_datasets/mbert/mbert_ZH-Chinese_test_dataset.pkl\n",
            "Evaluating model on test dataset\n"
          ]
        },
        {
          "output_type": "display_data",
          "data": {
            "text/plain": [
              "<IPython.core.display.HTML object>"
            ],
            "text/html": []
          },
          "metadata": {}
        },
        {
          "output_type": "stream",
          "name": "stdout",
          "text": [
            "              precision    recall  f1-score   support\n",
            "\n",
            "          CW       0.81      0.84      0.82      4369\n",
            "       Group       0.84      0.85      0.85      4715\n",
            "    Location       0.89      0.91      0.90      6170\n",
            "     Medical       0.79      0.80      0.79      1781\n",
            "      Person       0.93      0.94      0.94      9095\n",
            "     Product       0.69      0.71      0.70      1869\n",
            "\n",
            "   micro avg       0.86      0.88      0.87     27999\n",
            "   macro avg       0.82      0.84      0.83     27999\n",
            "weighted avg       0.86      0.88      0.87     27999\n",
            "\n",
            "Storing predictions and label IDs in /content/drive/MyDrive/predictions/mbert_ZH-Chinese_predictions.pkl\n",
            "Processing language: SV-Swedish\n",
            "Loading model from /content/drive/MyDrive/mbert_fin_models/SV-Swedish/model/model.pkl\n",
            "Loading label mapping from /content/drive/MyDrive/mbert_fin_models/SV-Swedish/label_mapping/label_mapping.pkl\n",
            "Loading test dataset from /content/drive/MyDrive/tokenized_test_datasets/mbert/mbert_SV-Swedish_test_dataset.pkl\n",
            "Evaluating model on test dataset\n"
          ]
        },
        {
          "output_type": "display_data",
          "data": {
            "text/plain": [
              "<IPython.core.display.HTML object>"
            ],
            "text/html": []
          },
          "metadata": {}
        },
        {
          "output_type": "stream",
          "name": "stdout",
          "text": [
            "              precision    recall  f1-score   support\n",
            "\n",
            "          CW       0.91      0.91      0.91     54806\n",
            "       Group       0.94      0.93      0.93     46929\n",
            "    Location       0.97      0.97      0.97    111879\n",
            "     Medical       0.90      0.90      0.90     13702\n",
            "      Person       0.98      0.98      0.98    111157\n",
            "     Product       0.88      0.87      0.87     22686\n",
            "\n",
            "   micro avg       0.95      0.95      0.95    361159\n",
            "   macro avg       0.93      0.93      0.93    361159\n",
            "weighted avg       0.95      0.95      0.95    361159\n",
            "\n",
            "Storing predictions and label IDs in /content/drive/MyDrive/predictions/mbert_SV-Swedish_predictions.pkl\n",
            "Processing language: FA-Farsi\n",
            "Loading model from /content/drive/MyDrive/mbert_fin_models/FA-Farsi/model/model.pkl\n",
            "Loading label mapping from /content/drive/MyDrive/mbert_fin_models/FA-Farsi/label_mapping/label_mapping.pkl\n",
            "Loading test dataset from /content/drive/MyDrive/tokenized_test_datasets/mbert/mbert_FA-Farsi_test_dataset.pkl\n",
            "Evaluating model on test dataset\n"
          ]
        },
        {
          "output_type": "display_data",
          "data": {
            "text/plain": [
              "<IPython.core.display.HTML object>"
            ],
            "text/html": []
          },
          "metadata": {}
        },
        {
          "output_type": "stream",
          "name": "stdout",
          "text": [
            "              precision    recall  f1-score   support\n",
            "\n",
            "          CW       0.85      0.87      0.86     53034\n",
            "       Group       0.84      0.86      0.85     38807\n",
            "    Location       0.83      0.85      0.84     70907\n",
            "     Medical       0.77      0.80      0.78     15287\n",
            "      Person       0.89      0.91      0.90    115868\n",
            "     Product       0.78      0.79      0.79     18212\n",
            "\n",
            "   micro avg       0.85      0.87      0.86    312115\n",
            "   macro avg       0.83      0.84      0.84    312115\n",
            "weighted avg       0.85      0.87      0.86    312115\n",
            "\n",
            "Storing predictions and label IDs in /content/drive/MyDrive/predictions/mbert_FA-Farsi_predictions.pkl\n",
            "Processing language: FR-French\n",
            "Loading model from /content/drive/MyDrive/mbert_fin_models/FR-French/model/model.pkl\n",
            "Loading label mapping from /content/drive/MyDrive/mbert_fin_models/FR-French/label_mapping/label_mapping.pkl\n",
            "Loading test dataset from /content/drive/MyDrive/tokenized_test_datasets/mbert/mbert_FR-French_test_dataset.pkl\n",
            "Evaluating model on test dataset\n"
          ]
        },
        {
          "output_type": "display_data",
          "data": {
            "text/plain": [
              "<IPython.core.display.HTML object>"
            ],
            "text/html": []
          },
          "metadata": {}
        },
        {
          "output_type": "stream",
          "name": "stdout",
          "text": [
            "              precision    recall  f1-score   support\n",
            "\n",
            "          CW       0.90      0.90      0.90     84952\n",
            "       Group       0.91      0.89      0.90     52989\n",
            "    Location       0.92      0.91      0.91     73373\n",
            "     Medical       0.85      0.86      0.85     17208\n",
            "      Person       0.97      0.97      0.97    141401\n",
            "     Product       0.83      0.81      0.82     28274\n",
            "\n",
            "   micro avg       0.92      0.92      0.92    398197\n",
            "   macro avg       0.90      0.89      0.89    398197\n",
            "weighted avg       0.92      0.92      0.92    398197\n",
            "\n",
            "Storing predictions and label IDs in /content/drive/MyDrive/predictions/mbert_FR-French_predictions.pkl\n",
            "Processing language: IT-Italian\n",
            "Loading model from /content/drive/MyDrive/mbert_fin_models/IT-Italian/model/model.pkl\n",
            "Loading label mapping from /content/drive/MyDrive/mbert_fin_models/IT-Italian/label_mapping/label_mapping.pkl\n",
            "Loading test dataset from /content/drive/MyDrive/tokenized_test_datasets/mbert/mbert_IT-Italian_test_dataset.pkl\n",
            "Evaluating model on test dataset\n"
          ]
        },
        {
          "output_type": "display_data",
          "data": {
            "text/plain": [
              "<IPython.core.display.HTML object>"
            ],
            "text/html": []
          },
          "metadata": {}
        },
        {
          "output_type": "stream",
          "name": "stdout",
          "text": [
            "              precision    recall  f1-score   support\n",
            "\n",
            "          CW       0.94      0.95      0.95     79873\n",
            "       Group       0.93      0.92      0.92     46271\n",
            "    Location       0.93      0.93      0.93     68564\n",
            "     Medical       0.86      0.88      0.87     19029\n",
            "      Person       0.98      0.98      0.98    160598\n",
            "     Product       0.84      0.83      0.83     22887\n",
            "\n",
            "   micro avg       0.94      0.94      0.94    397222\n",
            "   macro avg       0.91      0.91      0.91    397222\n",
            "weighted avg       0.94      0.94      0.94    397222\n",
            "\n",
            "Storing predictions and label IDs in /content/drive/MyDrive/predictions/mbert_IT-Italian_predictions.pkl\n",
            "Processing language: PT-Portuguese\n",
            "Loading model from /content/drive/MyDrive/mbert_fin_models/PT-Portuguese/model/model.pkl\n",
            "Loading label mapping from /content/drive/MyDrive/mbert_fin_models/PT-Portuguese/label_mapping/label_mapping.pkl\n",
            "Loading test dataset from /content/drive/MyDrive/tokenized_test_datasets/mbert/mbert_PT-Portuguese_test_dataset.pkl\n",
            "Evaluating model on test dataset\n"
          ]
        },
        {
          "output_type": "display_data",
          "data": {
            "text/plain": [
              "<IPython.core.display.HTML object>"
            ],
            "text/html": []
          },
          "metadata": {}
        },
        {
          "output_type": "stream",
          "name": "stdout",
          "text": [
            "              precision    recall  f1-score   support\n",
            "\n",
            "          CW       0.92      0.91      0.91     58246\n",
            "       Group       0.93      0.92      0.92     48994\n",
            "    Location       0.94      0.93      0.94     70923\n",
            "     Medical       0.85      0.87      0.86     21062\n",
            "      Person       0.97      0.97      0.97    120413\n",
            "     Product       0.85      0.84      0.85     21115\n",
            "\n",
            "   micro avg       0.94      0.93      0.93    340753\n",
            "   macro avg       0.91      0.91      0.91    340753\n",
            "weighted avg       0.94      0.93      0.93    340753\n",
            "\n",
            "Storing predictions and label IDs in /content/drive/MyDrive/predictions/mbert_PT-Portuguese_predictions.pkl\n",
            "Processing language: UK-Ukrainian\n",
            "Loading model from /content/drive/MyDrive/mbert_fin_models/UK-Ukrainian/model/model.pkl\n",
            "Loading label mapping from /content/drive/MyDrive/mbert_fin_models/UK-Ukrainian/label_mapping/label_mapping.pkl\n",
            "Loading test dataset from /content/drive/MyDrive/tokenized_test_datasets/mbert/mbert_UK-Ukrainian_test_dataset.pkl\n",
            "Evaluating model on test dataset\n"
          ]
        },
        {
          "output_type": "display_data",
          "data": {
            "text/plain": [
              "<IPython.core.display.HTML object>"
            ],
            "text/html": []
          },
          "metadata": {}
        },
        {
          "output_type": "stream",
          "name": "stdout",
          "text": [
            "              precision    recall  f1-score   support\n",
            "\n",
            "          CW       0.88      0.85      0.86     43291\n",
            "       Group       0.92      0.91      0.91     39709\n",
            "    Location       0.94      0.93      0.93     84643\n",
            "     Medical       0.88      0.89      0.89     20796\n",
            "      Person       0.97      0.97      0.97     96864\n",
            "     Product       0.85      0.84      0.85     30071\n",
            "\n",
            "   micro avg       0.93      0.92      0.92    315374\n",
            "   macro avg       0.91      0.90      0.90    315374\n",
            "weighted avg       0.93      0.92      0.92    315374\n",
            "\n",
            "Storing predictions and label IDs in /content/drive/MyDrive/predictions/mbert_UK-Ukrainian_predictions.pkl\n",
            "Processing language: DE-German\n",
            "Loading model from /content/drive/MyDrive/mbert_fin_models/DE-German/model/model.pkl\n",
            "Loading label mapping from /content/drive/MyDrive/mbert_fin_models/DE-German/label_mapping/label_mapping.pkl\n",
            "Loading test dataset from /content/drive/MyDrive/tokenized_test_datasets/mbert/mbert_DE-German_test_dataset.pkl\n",
            "Evaluating model on test dataset\n"
          ]
        },
        {
          "output_type": "display_data",
          "data": {
            "text/plain": [
              "<IPython.core.display.HTML object>"
            ],
            "text/html": []
          },
          "metadata": {}
        },
        {
          "output_type": "stream",
          "name": "stdout",
          "text": [
            "              precision    recall  f1-score   support\n",
            "\n",
            "          CW       0.86      0.87      0.87      4777\n",
            "       Group       0.86      0.87      0.87      4418\n",
            "    Location       0.92      0.92      0.92      5306\n",
            "     Medical       0.83      0.87      0.85      1434\n",
            "      Person       0.94      0.95      0.95     11299\n",
            "     Product       0.77      0.73      0.75      1643\n",
            "\n",
            "   micro avg       0.90      0.90      0.90     28877\n",
            "   macro avg       0.87      0.87      0.87     28877\n",
            "weighted avg       0.90      0.90      0.90     28877\n",
            "\n",
            "Storing predictions and label IDs in /content/drive/MyDrive/predictions/mbert_DE-German_predictions.pkl\n",
            "Processing language: BN-Bangla\n",
            "Loading model from /content/drive/MyDrive/mbert_fin_models/BN-Bangla/model/model.pkl\n",
            "Loading label mapping from /content/drive/MyDrive/mbert_fin_models/BN-Bangla/label_mapping/label_mapping.pkl\n",
            "Loading test dataset from /content/drive/MyDrive/tokenized_test_datasets/mbert/mbert_BN-Bangla_test_dataset.pkl\n",
            "Evaluating model on test dataset\n"
          ]
        },
        {
          "output_type": "display_data",
          "data": {
            "text/plain": [
              "<IPython.core.display.HTML object>"
            ],
            "text/html": []
          },
          "metadata": {}
        },
        {
          "output_type": "stream",
          "name": "stdout",
          "text": [
            "              precision    recall  f1-score   support\n",
            "\n",
            "          CW       0.79      0.79      0.79      3640\n",
            "       Group       0.89      0.87      0.88      3651\n",
            "    Location       0.92      0.93      0.93      7375\n",
            "     Medical       0.80      0.83      0.82      1919\n",
            "      Person       0.92      0.92      0.92      6935\n",
            "     Product       0.66      0.64      0.65      1493\n",
            "\n",
            "   micro avg       0.87      0.87      0.87     25013\n",
            "   macro avg       0.83      0.83      0.83     25013\n",
            "weighted avg       0.87      0.87      0.87     25013\n",
            "\n",
            "Storing predictions and label IDs in /content/drive/MyDrive/predictions/mbert_BN-Bangla_predictions.pkl\n"
          ]
        }
      ]
    },
    {
      "cell_type": "code",
      "source": [
        "# Define the base paths to the models, label mappings, test datasets, and prediction files on Google Drive\n",
        "models_base_path = '/content/drive/MyDrive/RemBert_fin_models'\n",
        "label_mappings_base_path = '/content/drive/MyDrive/RemBert_fin_models'\n",
        "test_datasets_base_path = '/content/drive/MyDrive/tokenized_test_datasets/rembert'\n",
        "predictions_base_path = '/content/drive/MyDrive/predictions'\n",
        "\n",
        "# Check if the predictions directory exists and create it if necessary\n",
        "if not os.path.exists(predictions_base_path):\n",
        "    os.makedirs(predictions_base_path)\n",
        "    print('Prediction directory created')\n",
        "\n",
        "# Create empty dictionaries to store the loaded models, label mappings, and test datasets\n",
        "models = {}\n",
        "label_mappings = {}\n",
        "test_datasets = {}\n",
        "\n",
        "# Define the languages for which you have saved models, label mappings, and test datasets\n",
        "languages = ['EN-English', 'ES-Spanish', 'HI-Hindi', 'ZH-Chinese', 'SV-Swedish', 'FA-Farsi', 'FR-French', 'IT-Italian', 'PT-Portuguese', 'UK-Ukrainian', 'DE-German', 'BN-Bangla']\n",
        "\n",
        "# Load the models, label mappings, and test datasets, evaluate the models on the corresponding test datasets,\n",
        "# and store the predictions and label IDs for each language\n",
        "for lang in languages:\n",
        "    print(f'Processing language: {lang}')\n",
        "\n",
        "    # Define the paths to the saved model, label mapping, and test dataset for this language\n",
        "    model_path = os.path.join(models_base_path, lang, 'model', 'model.pkl')\n",
        "    label_mapping_path = os.path.join(label_mappings_base_path, lang, 'label_mapping', 'label_mapping.pkl')\n",
        "    test_dataset_path = os.path.join(test_datasets_base_path, f'ReMBERT_{lang}_test_dataset.pkl')\n",
        "    # Load the model\n",
        "    print(f'Loading model from {model_path}')\n",
        "    with open(model_path, 'rb') as f:\n",
        "        model = pickle.load(f)\n",
        "\n",
        "    # Load the label mapping\n",
        "    print(f'Loading label mapping from {label_mapping_path}')\n",
        "    with open(label_mapping_path, 'rb') as f:\n",
        "        label_to_index = pickle.load(f)\n",
        "\n",
        "    # Load the test dataset\n",
        "    print(f'Loading test dataset from {test_dataset_path}')\n",
        "    with open(test_dataset_path, 'rb') as f:\n",
        "        test_dataset = pickle.load(f)\n",
        "\n",
        "\n",
        "    trainer = Trainer(\n",
        "        model=model,\n",
        "        args=TrainingArguments(\n",
        "            output_dir='/content/drive/MyDrive/results',\n",
        "            do_train=False,\n",
        "            do_eval=True,\n",
        "            per_device_eval_batch_size=8,\n",
        "        ),\n",
        "        train_dataset=None,\n",
        "        eval_dataset=test_dataset,\n",
        "        compute_metrics=compute_metrics,\n",
        "    )\n",
        "\n",
        "    # Get the predictions and label IDs for the test dataset\n",
        "    print('Evaluating model on test dataset')\n",
        "    predictions,label_ids,_=trainer.predict(test_dataset)\n",
        "\n",
        "    # Define the path to the prediction file for this language\n",
        "    prediction_file_path=os.path.join(predictions_base_path,f'RemBert_{lang}_predictions.pkl')\n",
        "\n",
        "    # Store the predictions and label IDs in a file using the pickle library\n",
        "    print(f'Storing predictions and label IDs in {prediction_file_path}')\n",
        "    with open(prediction_file_path,'wb') as f:\n",
        "        pickle.dump((predictions,label_ids),f)\n"
      ],
      "metadata": {
        "id": "q9Sl88mdw1vH",
        "colab": {
          "base_uri": "https://localhost:8080/",
          "height": 1000
        },
        "outputId": "56ee52de-a053-4f3b-9403-f3f6b5f156f8"
      },
      "execution_count": null,
      "outputs": [
        {
          "output_type": "stream",
          "name": "stdout",
          "text": [
            "Processing language: EN-English\n",
            "Loading model from /content/drive/MyDrive/RemBert_fin_models/EN-English/model/model.pkl\n",
            "Loading label mapping from /content/drive/MyDrive/RemBert_fin_models/EN-English/label_mapping/label_mapping.pkl\n",
            "Loading test dataset from /content/drive/MyDrive/tokenized_test_datasets/rembert/ReMBERT_EN-English_test_dataset.pkl\n",
            "Evaluating model on test dataset\n"
          ]
        },
        {
          "output_type": "display_data",
          "data": {
            "text/plain": [
              "<IPython.core.display.HTML object>"
            ],
            "text/html": []
          },
          "metadata": {}
        },
        {
          "output_type": "stream",
          "name": "stdout",
          "text": [
            "              precision    recall  f1-score   support\n",
            "\n",
            "          CW       0.93      0.93      0.93     62126\n",
            "       Group       0.93      0.93      0.93     60026\n",
            "    Location       0.95      0.95      0.95     67901\n",
            "     Medical       0.91      0.90      0.90     22491\n",
            "      Person       0.98      0.98      0.98    137681\n",
            "     Product       0.87      0.84      0.86     27580\n",
            "\n",
            "   micro avg       0.95      0.94      0.95    377805\n",
            "   macro avg       0.93      0.92      0.93    377805\n",
            "weighted avg       0.95      0.94      0.95    377805\n",
            "\n",
            "Storing predictions and label IDs in /content/drive/MyDrive/predictions/RemBert_EN-English_predictions.pkl\n",
            "Processing language: ES-Spanish\n",
            "Loading model from /content/drive/MyDrive/RemBert_fin_models/ES-Spanish/model/model.pkl\n",
            "Loading label mapping from /content/drive/MyDrive/RemBert_fin_models/ES-Spanish/label_mapping/label_mapping.pkl\n",
            "Loading test dataset from /content/drive/MyDrive/tokenized_test_datasets/rembert/ReMBERT_ES-Spanish_test_dataset.pkl\n",
            "Evaluating model on test dataset\n"
          ]
        },
        {
          "output_type": "display_data",
          "data": {
            "text/plain": [
              "<IPython.core.display.HTML object>"
            ],
            "text/html": []
          },
          "metadata": {}
        },
        {
          "output_type": "stream",
          "name": "stdout",
          "text": [
            "              precision    recall  f1-score   support\n",
            "\n",
            "          CW       0.95      0.94      0.94     55460\n",
            "       Group       0.96      0.95      0.96     50259\n",
            "    Location       0.96      0.95      0.95     72996\n",
            "     Medical       0.94      0.93      0.93     23812\n",
            "      Person       0.99      0.98      0.98    125379\n",
            "     Product       0.92      0.90      0.91     28469\n",
            "\n",
            "   micro avg       0.96      0.95      0.96    356375\n",
            "   macro avg       0.95      0.94      0.95    356375\n",
            "weighted avg       0.96      0.95      0.96    356375\n",
            "\n",
            "Storing predictions and label IDs in /content/drive/MyDrive/predictions/RemBert_ES-Spanish_predictions.pkl\n",
            "Processing language: HI-Hindi\n",
            "Loading model from /content/drive/MyDrive/RemBert_fin_models/HI-Hindi/model/model.pkl\n",
            "Loading label mapping from /content/drive/MyDrive/RemBert_fin_models/HI-Hindi/label_mapping/label_mapping.pkl\n",
            "Loading test dataset from /content/drive/MyDrive/tokenized_test_datasets/rembert/ReMBERT_HI-Hindi_test_dataset.pkl\n",
            "Evaluating model on test dataset\n"
          ]
        },
        {
          "output_type": "display_data",
          "data": {
            "text/plain": [
              "<IPython.core.display.HTML object>"
            ],
            "text/html": []
          },
          "metadata": {}
        },
        {
          "output_type": "stream",
          "name": "stdout",
          "text": [
            "              precision    recall  f1-score   support\n",
            "\n",
            "          CW       0.99      0.99      0.99      2804\n",
            "       Group       0.99      0.99      0.99      3897\n",
            "    Location       0.99      0.99      0.99      7172\n",
            "     Medical       1.00      1.00      1.00      1979\n",
            "      Person       0.99      0.99      0.99      5736\n",
            "     Product       0.99      0.99      0.99      1611\n",
            "\n",
            "   micro avg       0.99      0.99      0.99     23199\n",
            "   macro avg       0.99      0.99      0.99     23199\n",
            "weighted avg       0.99      0.99      0.99     23199\n",
            "\n",
            "Storing predictions and label IDs in /content/drive/MyDrive/predictions/RemBert_HI-Hindi_predictions.pkl\n",
            "Processing language: ZH-Chinese\n",
            "Loading model from /content/drive/MyDrive/RemBert_fin_models/ZH-Chinese/model/model.pkl\n",
            "Loading label mapping from /content/drive/MyDrive/RemBert_fin_models/ZH-Chinese/label_mapping/label_mapping.pkl\n",
            "Loading test dataset from /content/drive/MyDrive/tokenized_test_datasets/rembert/ReMBERT_ZH-Chinese_test_dataset.pkl\n",
            "Evaluating model on test dataset\n"
          ]
        },
        {
          "output_type": "display_data",
          "data": {
            "text/plain": [
              "<IPython.core.display.HTML object>"
            ],
            "text/html": []
          },
          "metadata": {}
        },
        {
          "output_type": "stream",
          "name": "stdout",
          "text": [
            "              precision    recall  f1-score   support\n",
            "\n",
            "          CW       0.94      0.95      0.94      4369\n",
            "       Group       0.94      0.95      0.94      4715\n",
            "    Location       0.95      0.97      0.96      6170\n",
            "     Medical       0.96      0.95      0.96      1781\n",
            "      Person       0.96      0.97      0.97      9095\n",
            "     Product       0.92      0.93      0.92      1869\n",
            "\n",
            "   micro avg       0.95      0.96      0.95     27999\n",
            "   macro avg       0.94      0.95      0.95     27999\n",
            "weighted avg       0.95      0.96      0.95     27999\n",
            "\n",
            "Storing predictions and label IDs in /content/drive/MyDrive/predictions/RemBert_ZH-Chinese_predictions.pkl\n",
            "Processing language: SV-Swedish\n",
            "Loading model from /content/drive/MyDrive/RemBert_fin_models/SV-Swedish/model/model.pkl\n",
            "Loading label mapping from /content/drive/MyDrive/RemBert_fin_models/SV-Swedish/label_mapping/label_mapping.pkl\n",
            "Loading test dataset from /content/drive/MyDrive/tokenized_test_datasets/rembert/ReMBERT_SV-Swedish_test_dataset.pkl\n",
            "Evaluating model on test dataset\n"
          ]
        },
        {
          "output_type": "display_data",
          "data": {
            "text/plain": [
              "<IPython.core.display.HTML object>"
            ],
            "text/html": []
          },
          "metadata": {}
        },
        {
          "output_type": "stream",
          "name": "stdout",
          "text": [
            "              precision    recall  f1-score   support\n",
            "\n",
            "          CW       0.95      0.93      0.94     54806\n",
            "       Group       0.97      0.96      0.97     46929\n",
            "    Location       0.98      0.98      0.98    111879\n",
            "     Medical       0.96      0.95      0.96     13702\n",
            "      Person       0.99      0.99      0.99    111157\n",
            "     Product       0.95      0.94      0.94     22686\n",
            "\n",
            "   micro avg       0.97      0.97      0.97    361159\n",
            "   macro avg       0.97      0.96      0.96    361159\n",
            "weighted avg       0.97      0.97      0.97    361159\n",
            "\n",
            "Storing predictions and label IDs in /content/drive/MyDrive/predictions/RemBert_SV-Swedish_predictions.pkl\n",
            "Processing language: FA-Farsi\n",
            "Loading model from /content/drive/MyDrive/RemBert_fin_models/FA-Farsi/model/model.pkl\n",
            "Loading label mapping from /content/drive/MyDrive/RemBert_fin_models/FA-Farsi/label_mapping/label_mapping.pkl\n",
            "Loading test dataset from /content/drive/MyDrive/tokenized_test_datasets/rembert/ReMBERT_FA-Farsi_test_dataset.pkl\n",
            "Evaluating model on test dataset\n"
          ]
        },
        {
          "output_type": "display_data",
          "data": {
            "text/plain": [
              "<IPython.core.display.HTML object>"
            ],
            "text/html": []
          },
          "metadata": {}
        },
        {
          "output_type": "stream",
          "name": "stdout",
          "text": [
            "              precision    recall  f1-score   support\n",
            "\n",
            "          CW       0.92      0.92      0.92     53034\n",
            "       Group       0.92      0.91      0.91     38807\n",
            "    Location       0.90      0.89      0.90     70907\n",
            "     Medical       0.89      0.89      0.89     15287\n",
            "      Person       0.93      0.94      0.93    115868\n",
            "     Product       0.90      0.89      0.89     18212\n",
            "\n",
            "   micro avg       0.92      0.92      0.92    312115\n",
            "   macro avg       0.91      0.91      0.91    312115\n",
            "weighted avg       0.92      0.92      0.92    312115\n",
            "\n",
            "Storing predictions and label IDs in /content/drive/MyDrive/predictions/RemBert_FA-Farsi_predictions.pkl\n",
            "Processing language: FR-French\n",
            "Loading model from /content/drive/MyDrive/RemBert_fin_models/FR-French/model/model.pkl\n",
            "Loading label mapping from /content/drive/MyDrive/RemBert_fin_models/FR-French/label_mapping/label_mapping.pkl\n",
            "Loading test dataset from /content/drive/MyDrive/tokenized_test_datasets/rembert/ReMBERT_FR-French_test_dataset.pkl\n",
            "Evaluating model on test dataset\n"
          ]
        },
        {
          "output_type": "display_data",
          "data": {
            "text/plain": [
              "<IPython.core.display.HTML object>"
            ],
            "text/html": []
          },
          "metadata": {}
        },
        {
          "output_type": "stream",
          "name": "stdout",
          "text": [
            "              precision    recall  f1-score   support\n",
            "\n",
            "          CW       0.93      0.92      0.92     84952\n",
            "       Group       0.94      0.94      0.94     52989\n",
            "    Location       0.95      0.93      0.94     73373\n",
            "     Medical       0.92      0.91      0.92     17208\n",
            "      Person       0.98      0.98      0.98    141401\n",
            "     Product       0.90      0.88      0.89     28274\n",
            "\n",
            "   micro avg       0.95      0.94      0.95    398197\n",
            "   macro avg       0.94      0.93      0.93    398197\n",
            "weighted avg       0.95      0.94      0.95    398197\n",
            "\n",
            "Storing predictions and label IDs in /content/drive/MyDrive/predictions/RemBert_FR-French_predictions.pkl\n",
            "Processing language: IT-Italian\n",
            "Loading model from /content/drive/MyDrive/RemBert_fin_models/IT-Italian/model/model.pkl\n",
            "Loading label mapping from /content/drive/MyDrive/RemBert_fin_models/IT-Italian/label_mapping/label_mapping.pkl\n",
            "Loading test dataset from /content/drive/MyDrive/tokenized_test_datasets/rembert/ReMBERT_IT-Italian_test_dataset.pkl\n",
            "Evaluating model on test dataset\n"
          ]
        },
        {
          "output_type": "display_data",
          "data": {
            "text/plain": [
              "<IPython.core.display.HTML object>"
            ],
            "text/html": []
          },
          "metadata": {}
        },
        {
          "output_type": "stream",
          "name": "stdout",
          "text": [
            "              precision    recall  f1-score   support\n",
            "\n",
            "          CW       0.97      0.97      0.97     79873\n",
            "       Group       0.96      0.95      0.96     46271\n",
            "    Location       0.96      0.95      0.95     68564\n",
            "     Medical       0.93      0.93      0.93     19029\n",
            "      Person       0.99      0.99      0.99    160598\n",
            "     Product       0.90      0.89      0.90     22887\n",
            "\n",
            "   micro avg       0.97      0.97      0.97    397222\n",
            "   macro avg       0.95      0.95      0.95    397222\n",
            "weighted avg       0.97      0.97      0.97    397222\n",
            "\n",
            "Storing predictions and label IDs in /content/drive/MyDrive/predictions/RemBert_IT-Italian_predictions.pkl\n",
            "Processing language: PT-Portuguese\n",
            "Loading model from /content/drive/MyDrive/RemBert_fin_models/PT-Portuguese/model/model.pkl\n",
            "Loading label mapping from /content/drive/MyDrive/RemBert_fin_models/PT-Portuguese/label_mapping/label_mapping.pkl\n",
            "Loading test dataset from /content/drive/MyDrive/tokenized_test_datasets/rembert/ReMBERT_PT-Portuguese_test_dataset.pkl\n",
            "Evaluating model on test dataset\n"
          ]
        },
        {
          "output_type": "display_data",
          "data": {
            "text/plain": [
              "<IPython.core.display.HTML object>"
            ],
            "text/html": []
          },
          "metadata": {}
        },
        {
          "output_type": "stream",
          "name": "stdout",
          "text": [
            "              precision    recall  f1-score   support\n",
            "\n",
            "          CW       0.95      0.94      0.95     58246\n",
            "       Group       0.96      0.95      0.96     48994\n",
            "    Location       0.96      0.95      0.96     70923\n",
            "     Medical       0.92      0.92      0.92     21062\n",
            "      Person       0.99      0.98      0.98    120413\n",
            "     Product       0.92      0.90      0.91     21115\n",
            "\n",
            "   micro avg       0.96      0.96      0.96    340753\n",
            "   macro avg       0.95      0.94      0.95    340753\n",
            "weighted avg       0.96      0.96      0.96    340753\n",
            "\n",
            "Storing predictions and label IDs in /content/drive/MyDrive/predictions/RemBert_PT-Portuguese_predictions.pkl\n",
            "Processing language: UK-Ukrainian\n",
            "Loading model from /content/drive/MyDrive/RemBert_fin_models/UK-Ukrainian/model/model.pkl\n",
            "Loading label mapping from /content/drive/MyDrive/RemBert_fin_models/UK-Ukrainian/label_mapping/label_mapping.pkl\n",
            "Loading test dataset from /content/drive/MyDrive/tokenized_test_datasets/rembert/ReMBERT_UK-Ukrainian_test_dataset.pkl\n",
            "Evaluating model on test dataset\n"
          ]
        },
        {
          "output_type": "display_data",
          "data": {
            "text/plain": [
              "<IPython.core.display.HTML object>"
            ],
            "text/html": []
          },
          "metadata": {}
        },
        {
          "output_type": "stream",
          "name": "stdout",
          "text": [
            "              precision    recall  f1-score   support\n",
            "\n",
            "          CW       0.94      0.91      0.92     43291\n",
            "       Group       0.96      0.95      0.96     39709\n",
            "    Location       0.97      0.96      0.96     84643\n",
            "     Medical       0.95      0.94      0.95     20796\n",
            "      Person       0.98      0.98      0.98     96864\n",
            "     Product       0.94      0.91      0.92     30071\n",
            "\n",
            "   micro avg       0.96      0.95      0.96    315374\n",
            "   macro avg       0.96      0.94      0.95    315374\n",
            "weighted avg       0.96      0.95      0.96    315374\n",
            "\n",
            "Storing predictions and label IDs in /content/drive/MyDrive/predictions/RemBert_UK-Ukrainian_predictions.pkl\n",
            "Processing language: DE-German\n",
            "Loading model from /content/drive/MyDrive/RemBert_fin_models/DE-German/model/model.pkl\n",
            "Loading label mapping from /content/drive/MyDrive/RemBert_fin_models/DE-German/label_mapping/label_mapping.pkl\n",
            "Loading test dataset from /content/drive/MyDrive/tokenized_test_datasets/rembert/ReMBERT_DE-German_test_dataset.pkl\n",
            "Evaluating model on test dataset\n"
          ]
        },
        {
          "output_type": "display_data",
          "data": {
            "text/plain": [
              "<IPython.core.display.HTML object>"
            ],
            "text/html": []
          },
          "metadata": {}
        },
        {
          "output_type": "stream",
          "name": "stdout",
          "text": [
            "              precision    recall  f1-score   support\n",
            "\n",
            "          CW       0.98      0.98      0.98      4777\n",
            "       Group       0.98      0.98      0.98      4418\n",
            "    Location       0.99      0.99      0.99      5306\n",
            "     Medical       0.99      0.99      0.99      1434\n",
            "      Person       0.99      0.99      0.99     11299\n",
            "     Product       0.98      0.98      0.98      1643\n",
            "\n",
            "   micro avg       0.98      0.99      0.99     28877\n",
            "   macro avg       0.98      0.98      0.98     28877\n",
            "weighted avg       0.98      0.99      0.99     28877\n",
            "\n",
            "Storing predictions and label IDs in /content/drive/MyDrive/predictions/RemBert_DE-German_predictions.pkl\n",
            "Processing language: BN-Bangla\n",
            "Loading model from /content/drive/MyDrive/RemBert_fin_models/BN-Bangla/model/model.pkl\n",
            "Loading label mapping from /content/drive/MyDrive/RemBert_fin_models/BN-Bangla/label_mapping/label_mapping.pkl\n",
            "Loading test dataset from /content/drive/MyDrive/tokenized_test_datasets/rembert/ReMBERT_BN-Bangla_test_dataset.pkl\n",
            "Evaluating model on test dataset\n"
          ]
        },
        {
          "output_type": "display_data",
          "data": {
            "text/plain": [
              "<IPython.core.display.HTML object>"
            ],
            "text/html": []
          },
          "metadata": {}
        },
        {
          "output_type": "stream",
          "name": "stdout",
          "text": [
            "              precision    recall  f1-score   support\n",
            "\n",
            "          CW       0.98      0.98      0.98      3640\n",
            "       Group       0.99      0.99      0.99      3651\n",
            "    Location       0.99      0.99      0.99      7375\n",
            "     Medical       0.99      0.99      0.99      1919\n",
            "      Person       0.99      0.99      0.99      6935\n",
            "     Product       0.97      0.97      0.97      1493\n",
            "\n",
            "   micro avg       0.99      0.99      0.99     25013\n",
            "   macro avg       0.99      0.98      0.98     25013\n",
            "weighted avg       0.99      0.99      0.99     25013\n",
            "\n",
            "Storing predictions and label IDs in /content/drive/MyDrive/predictions/RemBert_BN-Bangla_predictions.pkl\n"
          ]
        }
      ]
    }
  ]
}